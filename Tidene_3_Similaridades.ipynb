{
 "cells": [
  {
   "cell_type": "markdown",
   "metadata": {},
   "source": [
    "# Códigos Tidene - Similaridades "
   ]
  },
  {
   "cell_type": "markdown",
   "metadata": {},
   "source": [
    "Referências:\n",
    "https://radimrehurek.com/gensim/tutorial.html"
   ]
  },
  {
   "cell_type": "code",
   "execution_count": 1,
   "metadata": {},
   "outputs": [],
   "source": [
    "import numpy as np\n",
    "import pandas as pd\n",
    "import nltk\n",
    "import sklearn\n",
    "import gensim\n",
    "import pickle"
   ]
  },
  {
   "cell_type": "markdown",
   "metadata": {},
   "source": [
    "### Utilizando o sklearn para ler o vetorizador tfidf (aquele criado no Tidene_Vectorizers) para calcular semelhanças"
   ]
  },
  {
   "cell_type": "code",
   "execution_count": 2,
   "metadata": {},
   "outputs": [],
   "source": [
    "import csv\n",
    "\n",
    "class readCorpus(object):\n",
    "    def __init__(self,csvfile,list_of_fields_to_read=[],tokenizer=None,encoding='utf8'):\n",
    "        self.csvfile = csvfile\n",
    "        self.fields = list_of_fields_to_read\n",
    "        self.tokenizer = tokenizer\n",
    "        self.encoding = encoding\n",
    "    \n",
    "    def __iter__(self):\n",
    "        f = open(self.csvfile,encoding=self.encoding, errors='ignore')\n",
    "        reader = csv.reader(f, delimiter=',', quoting=csv.QUOTE_MINIMAL) #separador dos campos\\n\",\n",
    "        headers = next(reader, None)\n",
    "        if (len(self.fields) <= 0):\n",
    "            self.fields = headers\n",
    "        selected_field_indexes = []\n",
    "        for idx,field in enumerate(headers):\n",
    "            if field in self.fields:\n",
    "                selected_field_indexes.append(idx)\n",
    "\n",
    "        for line in reader:\n",
    "            if line:\n",
    "                yield [line[idx] for idx in selected_field_indexes] if (len(selected_field_indexes)>1) else (line[selected_field_indexes[0]] if not self.tokenizer else tokenizer.tokenize(line[selected_field_indexes[0]]))\n",
    "                        "
   ]
  },
  {
   "cell_type": "code",
   "execution_count": 3,
   "metadata": {},
   "outputs": [],
   "source": [
    "# copiei aqui as classes definidas quando foram criados os vetorizadores... ela poderia ser importada do notebook no qual foi definida\n",
    "from nltk.stem.porter import PorterStemmer\n",
    "from nltk.stem import WordNetLemmatizer\n",
    "from nltk.tokenize import *    #https://www.nltk.org/api/nltk.tokenize.html\n",
    "\n",
    "class LemmaTokenizer(object):\n",
    "    def __init__(self):\n",
    "        self.wnl = WordNetLemmatizer()\n",
    "        self.tokenizer = nltk.tokenize.RegexpTokenizer(\"[a-zA-Z']+\")\n",
    "    def __call__(self, doc):\n",
    "        return [self.wnl.lemmatize(t) for t in self.tokenizer.tokenize(doc) if (len(t)>2)]\n",
    "\n",
    "class StemTokenizer(object):\n",
    "    def __init__(self):\n",
    "        self.stemmer = PorterStemmer()\n",
    "        self.tokenizer = nltk.tokenize.RegexpTokenizer(\"[a-zA-Z']+\")\n",
    "    def __call__(self, doc):\n",
    "        return [self.stemmer.stem(t) for t in self.tokenizer.tokenize(doc) if (len(t)>2)]\n"
   ]
  },
  {
   "cell_type": "markdown",
   "metadata": {},
   "source": [
    "#### Lê os arquivos já gravados - vetorizador e matriz de representação dos documentos toy.csv\n"
   ]
  },
  {
   "cell_type": "code",
   "execution_count": 4,
   "metadata": {},
   "outputs": [
    {
     "data": {
      "text/plain": [
       "(17, 943)"
      ]
     },
     "execution_count": 4,
     "metadata": {},
     "output_type": "execute_result"
    }
   ],
   "source": [
    "# COMO O VETORIZADOR FOI TREINADO COM O PREPROCESSADOR PERSONALIZADO, EH NECESSARIO QUE ELE TENHA ACESSO A CLASSE PREPROCESS\n",
    "\n",
    "tfidf_vectorizer = pickle.load(open(\"tfidf_vectorizer.pickle\", \"rb\"))\n",
    "X_train_tfidf = pickle.load(open(\"X_train_tfidf.pickle\", \"rb\"))\n",
    "\n",
    "X_train_tfidf.shape   # matriz de features"
   ]
  },
  {
   "cell_type": "markdown",
   "metadata": {},
   "source": [
    "#### Testando o modelo com textos novos"
   ]
  },
  {
   "cell_type": "code",
   "execution_count": 5,
   "metadata": {},
   "outputs": [],
   "source": [
    "test_docs = readCorpus(\"testtoy.csv\",list_of_fields_to_read=['data'])          # ou pd.read_csv('testtoy.csv',encoding='utf8')['data']     #.values.tolist()\n",
    "test_classes = pd.read_csv('testtoy.csv',encoding='utf8')['subgroup'].values.tolist()\n",
    "\n",
    "train_classes = pd.read_csv('toy.csv',encoding='utf8')['subgroup'].values.tolist()\n",
    "\n",
    " #representa os documentos com o padrao treinado pelo vetorizador tfidf\n",
    "X_test_tfidf = tfidf_vectorizer.transform(test_docs)\n"
   ]
  },
  {
   "cell_type": "code",
   "execution_count": 6,
   "metadata": {},
   "outputs": [
    {
     "data": {
      "text/plain": [
       "(8, 943)"
      ]
     },
     "execution_count": 6,
     "metadata": {},
     "output_type": "execute_result"
    }
   ],
   "source": [
    "X_test_tfidf.shape"
   ]
  },
  {
   "cell_type": "markdown",
   "metadata": {},
   "source": [
    "#### Calcula similaridade cosseno entre os textos novos (testes) e os de treinamento "
   ]
  },
  {
   "cell_type": "code",
   "execution_count": 7,
   "metadata": {
    "scrolled": true
   },
   "outputs": [
    {
     "name": "stdout",
     "output_type": "stream",
     "text": [
      "[[0.2068203  0.0711777  0.05750602 0.05738363 0.14375667 0.10602145\n",
      "  0.07112414 0.12744874 0.12383886 0.07777014 0.02062435 0.03861613\n",
      "  0.04193319 0.01694143 0.0355781  0.03688384 0.01893789]\n",
      " [0.09663616 0.02306838 0.03425474 0.58463809 0.11010998 0.38324208\n",
      "  0.65953449 0.47873438 0.02590699 0.02482298 0.01001992 0.00882248\n",
      "  0.02319466 0.01494955 0.01531237 0.00832083 0.01979019]\n",
      " [0.09453301 0.10078997 0.01836139 0.07562716 0.07960121 0.05771268\n",
      "  0.0951439  0.07650608 0.09320655 0.02265438 0.0152423  0.01842366\n",
      "  0.01283329 0.04642557 0.02327274 0.00546506 0.00712939]\n",
      " [0.13198484 0.13759623 0.01996505 0.24123981 0.05561248 0.23976371\n",
      "  0.25745172 0.19669266 0.11531122 0.1460988  0.02831212 0.06047842\n",
      "  0.04348693 0.03607556 0.03192598 0.02781585 0.0284788 ]\n",
      " [0.0151623  0.02260558 0.01107175 0.02835495 0.01567109 0.01753823\n",
      "  0.02387818 0.03039803 0.0149737  0.36056705 0.26862345 0.26421248\n",
      "  0.1771464  0.05959627 0.09912659 0.05379681 0.01791285]\n",
      " [0.0103377  0.00794832 0.01968243 0.01378498 0.01045572 0.03985938\n",
      "  0.02304035 0.04136516 0.01033259 0.37286846 0.40223443 0.34276852\n",
      "  0.1870439  0.06905278 0.13892828 0.04688389 0.01981547]\n",
      " [0.02297516 0.01328159 0.03284858 0.04265561 0.02333561 0.01511045\n",
      "  0.03261419 0.00490174 0.00658249 0.10391593 0.1105217  0.03691305\n",
      "  0.1995337  0.04240834 0.17752189 0.1190765  0.03395806]\n",
      " [0.01917193 0.02441371 0.00843335 0.02777486 0.01115359 0.02105699\n",
      "  0.0384049  0.06572564 0.01782015 0.1556041  0.08837321 0.09893445\n",
      "  0.15088134 0.03837612 0.06120964 0.05156701 0.01673966]]\n"
     ]
    }
   ],
   "source": [
    "#http://scikit-learn.org/stable/modules/generated/sklearn.metrics.pairwise.cosine_similarity.html\n",
    "from sklearn.metrics.pairwise import cosine_similarity\n",
    "\n",
    "# calcula similaridade entre o primeiro documento e cada um dos documentos da matrix\n",
    "\n",
    "predicts=cosine_similarity(X_test_tfidf,X_train_tfidf)\n",
    "print(predicts)"
   ]
  },
  {
   "cell_type": "code",
   "execution_count": 8,
   "metadata": {
    "scrolled": true
   },
   "outputs": [
    {
     "name": "stdout",
     "output_type": "stream",
     "text": [
      "Similaridade Cosseno, entre cada doc novo e o conjunto inteiro\n",
      "real:  B03B00562\n",
      "pred:  B03B00402  Score: 0.20682030293822073\n",
      "pred:  B03B00512  Score: 0.14375666667585926\n",
      "pred:  B03B00562  Score: 0.12744874080129123\n",
      "pred:  B03B00566  Score: 0.12383885994365144\n",
      "pred:  B03B00562  Score: 0.1060214483264906\n",
      "pred:  H03F00126  Score: 0.0777701373315815\n",
      "pred:  B03B00500  Score: 0.07117769780568488\n",
      "pred:  B03B00562  Score: 0.07112413895173579\n",
      "pred:  B03B00546  Score: 0.057506018920709036\n",
      "pred:  B03B00510  Score: 0.05738363138704032\n",
      "pred:  H03M00730  Score: 0.041933187698688784\n",
      "pred:  H03F00102  Score: 0.03861613150985254\n",
      "pred:  H03M00740  Score: 0.03688384202121075\n",
      "pred:  H03M00740  Score: 0.035578097924264085\n",
      "pred:  H03F00130  Score: 0.020624345842700148\n",
      "pred:  H03M00746  Score: 0.018937890901341205\n",
      "pred:  H03M00730  Score: 0.016941427973571697\n",
      "\n",
      "real:  B03B00510\n",
      "pred:  B03B00402  Score: 0.20682030293822073\n",
      "pred:  B03B00512  Score: 0.14375666667585926\n",
      "pred:  B03B00562  Score: 0.12744874080129123\n",
      "pred:  B03B00566  Score: 0.12383885994365144\n",
      "pred:  B03B00562  Score: 0.1060214483264906\n",
      "pred:  H03F00126  Score: 0.0777701373315815\n",
      "pred:  B03B00500  Score: 0.07117769780568488\n",
      "pred:  B03B00562  Score: 0.07112413895173579\n",
      "pred:  B03B00546  Score: 0.057506018920709036\n",
      "pred:  B03B00510  Score: 0.05738363138704032\n",
      "pred:  H03M00730  Score: 0.041933187698688784\n",
      "pred:  H03F00102  Score: 0.03861613150985254\n",
      "pred:  H03M00740  Score: 0.03688384202121075\n",
      "pred:  H03M00740  Score: 0.035578097924264085\n",
      "pred:  H03F00130  Score: 0.020624345842700148\n",
      "pred:  H03M00746  Score: 0.018937890901341205\n",
      "pred:  H03M00730  Score: 0.016941427973571697\n",
      "\n",
      "real:  B03B00700\n",
      "pred:  B03B00402  Score: 0.20682030293822073\n",
      "pred:  B03B00512  Score: 0.14375666667585926\n",
      "pred:  B03B00562  Score: 0.12744874080129123\n",
      "pred:  B03B00566  Score: 0.12383885994365144\n",
      "pred:  B03B00562  Score: 0.1060214483264906\n",
      "pred:  H03F00126  Score: 0.0777701373315815\n",
      "pred:  B03B00500  Score: 0.07117769780568488\n",
      "pred:  B03B00562  Score: 0.07112413895173579\n",
      "pred:  B03B00546  Score: 0.057506018920709036\n",
      "pred:  B03B00510  Score: 0.05738363138704032\n",
      "pred:  H03M00730  Score: 0.041933187698688784\n",
      "pred:  H03F00102  Score: 0.03861613150985254\n",
      "pred:  H03M00740  Score: 0.03688384202121075\n",
      "pred:  H03M00740  Score: 0.035578097924264085\n",
      "pred:  H03F00130  Score: 0.020624345842700148\n",
      "pred:  H03M00746  Score: 0.018937890901341205\n",
      "pred:  H03M00730  Score: 0.016941427973571697\n",
      "\n",
      "real:  B03B00104\n",
      "pred:  B03B00402  Score: 0.20682030293822073\n",
      "pred:  B03B00512  Score: 0.14375666667585926\n",
      "pred:  B03B00562  Score: 0.12744874080129123\n",
      "pred:  B03B00566  Score: 0.12383885994365144\n",
      "pred:  B03B00562  Score: 0.1060214483264906\n",
      "pred:  H03F00126  Score: 0.0777701373315815\n",
      "pred:  B03B00500  Score: 0.07117769780568488\n",
      "pred:  B03B00562  Score: 0.07112413895173579\n",
      "pred:  B03B00546  Score: 0.057506018920709036\n",
      "pred:  B03B00510  Score: 0.05738363138704032\n",
      "pred:  H03M00730  Score: 0.041933187698688784\n",
      "pred:  H03F00102  Score: 0.03861613150985254\n",
      "pred:  H03M00740  Score: 0.03688384202121075\n",
      "pred:  H03M00740  Score: 0.035578097924264085\n",
      "pred:  H03F00130  Score: 0.020624345842700148\n",
      "pred:  H03M00746  Score: 0.018937890901341205\n",
      "pred:  H03M00730  Score: 0.016941427973571697\n",
      "\n",
      "real:  H03F00100\n",
      "pred:  B03B00402  Score: 0.20682030293822073\n",
      "pred:  B03B00512  Score: 0.14375666667585926\n",
      "pred:  B03B00562  Score: 0.12744874080129123\n",
      "pred:  B03B00566  Score: 0.12383885994365144\n",
      "pred:  B03B00562  Score: 0.1060214483264906\n",
      "pred:  H03F00126  Score: 0.0777701373315815\n",
      "pred:  B03B00500  Score: 0.07117769780568488\n",
      "pred:  B03B00562  Score: 0.07112413895173579\n",
      "pred:  B03B00546  Score: 0.057506018920709036\n",
      "pred:  B03B00510  Score: 0.05738363138704032\n",
      "pred:  H03M00730  Score: 0.041933187698688784\n",
      "pred:  H03F00102  Score: 0.03861613150985254\n",
      "pred:  H03M00740  Score: 0.03688384202121075\n",
      "pred:  H03M00740  Score: 0.035578097924264085\n",
      "pred:  H03F00130  Score: 0.020624345842700148\n",
      "pred:  H03M00746  Score: 0.018937890901341205\n",
      "pred:  H03M00730  Score: 0.016941427973571697\n",
      "\n",
      "real:  H03F00102\n",
      "pred:  B03B00402  Score: 0.20682030293822073\n",
      "pred:  B03B00512  Score: 0.14375666667585926\n",
      "pred:  B03B00562  Score: 0.12744874080129123\n",
      "pred:  B03B00566  Score: 0.12383885994365144\n",
      "pred:  B03B00562  Score: 0.1060214483264906\n",
      "pred:  H03F00126  Score: 0.0777701373315815\n",
      "pred:  B03B00500  Score: 0.07117769780568488\n",
      "pred:  B03B00562  Score: 0.07112413895173579\n",
      "pred:  B03B00546  Score: 0.057506018920709036\n",
      "pred:  B03B00510  Score: 0.05738363138704032\n",
      "pred:  H03M00730  Score: 0.041933187698688784\n",
      "pred:  H03F00102  Score: 0.03861613150985254\n",
      "pred:  H03M00740  Score: 0.03688384202121075\n",
      "pred:  H03M00740  Score: 0.035578097924264085\n",
      "pred:  H03F00130  Score: 0.020624345842700148\n",
      "pred:  H03M00746  Score: 0.018937890901341205\n",
      "pred:  H03M00730  Score: 0.016941427973571697\n",
      "\n",
      "real:  H03M00514\n",
      "pred:  B03B00402  Score: 0.20682030293822073\n",
      "pred:  B03B00512  Score: 0.14375666667585926\n",
      "pred:  B03B00562  Score: 0.12744874080129123\n",
      "pred:  B03B00566  Score: 0.12383885994365144\n",
      "pred:  B03B00562  Score: 0.1060214483264906\n",
      "pred:  H03F00126  Score: 0.0777701373315815\n",
      "pred:  B03B00500  Score: 0.07117769780568488\n",
      "pred:  B03B00562  Score: 0.07112413895173579\n",
      "pred:  B03B00546  Score: 0.057506018920709036\n",
      "pred:  B03B00510  Score: 0.05738363138704032\n",
      "pred:  H03M00730  Score: 0.041933187698688784\n",
      "pred:  H03F00102  Score: 0.03861613150985254\n",
      "pred:  H03M00740  Score: 0.03688384202121075\n",
      "pred:  H03M00740  Score: 0.035578097924264085\n",
      "pred:  H03F00130  Score: 0.020624345842700148\n",
      "pred:  H03M00746  Score: 0.018937890901341205\n",
      "pred:  H03M00730  Score: 0.016941427973571697\n",
      "\n",
      "real:  H03M00300\n",
      "pred:  B03B00402  Score: 0.20682030293822073\n",
      "pred:  B03B00512  Score: 0.14375666667585926\n",
      "pred:  B03B00562  Score: 0.12744874080129123\n",
      "pred:  B03B00566  Score: 0.12383885994365144\n",
      "pred:  B03B00562  Score: 0.1060214483264906\n",
      "pred:  H03F00126  Score: 0.0777701373315815\n",
      "pred:  B03B00500  Score: 0.07117769780568488\n",
      "pred:  B03B00562  Score: 0.07112413895173579\n",
      "pred:  B03B00546  Score: 0.057506018920709036\n",
      "pred:  B03B00510  Score: 0.05738363138704032\n",
      "pred:  H03M00730  Score: 0.041933187698688784\n",
      "pred:  H03F00102  Score: 0.03861613150985254\n",
      "pred:  H03M00740  Score: 0.03688384202121075\n",
      "pred:  H03M00740  Score: 0.035578097924264085\n",
      "pred:  H03F00130  Score: 0.020624345842700148\n",
      "pred:  H03M00746  Score: 0.018937890901341205\n",
      "pred:  H03M00730  Score: 0.016941427973571697\n",
      "\n"
     ]
    }
   ],
   "source": [
    "print(\"Similaridade Cosseno, entre cada doc novo e o conjunto inteiro\")\n",
    "for i,p in enumerate(predicts):\n",
    "    print(\"real: \",test_classes[i])\n",
    "    for idx,score in sorted(enumerate(predicts[0]),key = lambda x: x[1],reverse=True)[:17]:\n",
    "        print (\"pred: \", train_classes[idx],\" Score:\",score)\n",
    "    print(\"\")"
   ]
  },
  {
   "cell_type": "markdown",
   "metadata": {},
   "source": [
    "#### alguns artigos para leitura\n",
    "http://blog.christianperone.com/2013/09/machine-learning-cosine-similarity-for-vector-space-models-part-iii/\n",
    "http://blog.christianperone.com/2013/09/machine-learning-cosine-similarity-for-vector-space-models-part-iii/\n",
    "https://www.programcreek.com/python/example/100424/sklearn.metrics.pairwise.cosine_similarity\n",
    "http://techinpink.com/2017/08/04/implementing-similarity-measures-cosine-similarity-versus-jaccard-similarity/\n",
    "https://www.kernix.com/blog/similarity-measure-of-textual-documents_p12\n"
   ]
  },
  {
   "cell_type": "markdown",
   "metadata": {},
   "source": [
    "#### Lendo a matriz ja montada dos textos (treinamento e teste)"
   ]
  },
  {
   "cell_type": "code",
   "execution_count": 9,
   "metadata": {},
   "outputs": [
    {
     "name": "stdout",
     "output_type": "stream",
     "text": [
      "Formato matriz treinamento: (17, 100)\n",
      "Formato matriz teste: (8, 100)\n"
     ]
    }
   ],
   "source": [
    "X_train_w2v_glove_wiki_gigaword_100 = pickle.load(open(\"X_train_w2v_glove_wiki_gigaword_100.pickle\", \"rb\"))\n",
    "print(\"Formato matriz treinamento:\",X_train_w2v_glove_wiki_gigaword_100.shape)   # matriz de features\n",
    "\n",
    "X_test_w2v_glove_wiki_gigaword_100 = pickle.load(open(\"X_test_w2v_glove_wiki_gigaword_100.pickle\", \"rb\"))\n",
    "print(\"Formato matriz teste:\",X_test_w2v_glove_wiki_gigaword_100.shape)   # matriz de features\n",
    "\n"
   ]
  },
  {
   "cell_type": "code",
   "execution_count": 30,
   "metadata": {},
   "outputs": [],
   "source": [
    "#### Calculando similaridade cosseno com as representações word2vec"
   ]
  },
  {
   "cell_type": "code",
   "execution_count": 10,
   "metadata": {},
   "outputs": [
    {
     "name": "stdout",
     "output_type": "stream",
     "text": [
      "[[0.9674649  0.96386214 0.95017826 0.95223056 0.90954931 0.96330483\n",
      "  0.9518419  0.95093699 0.95865872 0.89490345 0.89492231 0.91426139\n",
      "  0.92803791 0.91118234 0.89484721 0.8673771  0.90463559]\n",
      " [0.96067921 0.94481012 0.95306651 0.95565021 0.92225828 0.95119399\n",
      "  0.95158658 0.94787    0.93549561 0.89018459 0.90755116 0.91680554\n",
      "  0.92667357 0.91669357 0.90520308 0.87760071 0.92567079]\n",
      " [0.95297535 0.96128278 0.95065833 0.94092882 0.89779579 0.94720104\n",
      "  0.93965872 0.94356632 0.95331578 0.87413012 0.88104602 0.90835149\n",
      "  0.91659791 0.89422095 0.88923665 0.84038941 0.88534181]\n",
      " [0.93756292 0.94579747 0.92362952 0.9477134  0.89880528 0.94501417\n",
      "  0.9445157  0.9337434  0.92952605 0.89058654 0.88768438 0.88685279\n",
      "  0.90543784 0.90297954 0.89714067 0.87211199 0.89572481]\n",
      " [0.93391418 0.91628955 0.91629852 0.93503787 0.92086666 0.93040786\n",
      "  0.94360253 0.93796038 0.89017803 0.9588876  0.9599715  0.96234023\n",
      "  0.96338985 0.94796183 0.94326851 0.92500469 0.93332646]\n",
      " [0.93356924 0.92570938 0.92959571 0.93480816 0.92254563 0.93500729\n",
      "  0.94367489 0.94658955 0.89495253 0.95490808 0.96381032 0.97235549\n",
      "  0.95825504 0.94529904 0.94221744 0.91554581 0.9304068 ]\n",
      " [0.93288039 0.91768183 0.91401773 0.91120519 0.8956141  0.9255603\n",
      "  0.92437678 0.91420214 0.89540858 0.90848441 0.92180841 0.92172905\n",
      "  0.92709332 0.93451058 0.93119996 0.91326049 0.93512608]\n",
      " [0.93160556 0.91700723 0.92565427 0.93215812 0.91502292 0.92954992\n",
      "  0.941946   0.93687745 0.90370739 0.94582908 0.95011723 0.94754842\n",
      "  0.95339847 0.92997832 0.93324217 0.91298318 0.93154602]]\n"
     ]
    }
   ],
   "source": [
    "#http://scikit-learn.org/stable/modules/generated/sklearn.metrics.pairwise.cosine_similarity.html\n",
    "from sklearn.metrics.pairwise import cosine_similarity\n",
    "\n",
    "# calcula similaridade entre o primeiro documento e cada um dos documentos da matrix\n",
    "\n",
    "predicts_w2v=cosine_similarity(X_test_w2v_glove_wiki_gigaword_100,X_train_w2v_glove_wiki_gigaword_100)\n",
    "print(predicts_w2v)"
   ]
  },
  {
   "cell_type": "code",
   "execution_count": 11,
   "metadata": {
    "scrolled": true
   },
   "outputs": [
    {
     "name": "stdout",
     "output_type": "stream",
     "text": [
      "Similaridade Cosseno W2V, entre cada doc novo e o conjunto inteiro\n",
      "real:  B03B00562\n",
      "pred:  B03B00402  Score: 0.9674648961197683\n",
      "pred:  B03B00500  Score: 0.9638621406412274\n",
      "pred:  B03B00562  Score: 0.9633048329743776\n",
      "\n",
      "real:  B03B00510\n",
      "pred:  B03B00402  Score: 0.9674648961197683\n",
      "pred:  B03B00500  Score: 0.9638621406412274\n",
      "pred:  B03B00562  Score: 0.9633048329743776\n",
      "\n",
      "real:  B03B00700\n",
      "pred:  B03B00402  Score: 0.9674648961197683\n",
      "pred:  B03B00500  Score: 0.9638621406412274\n",
      "pred:  B03B00562  Score: 0.9633048329743776\n",
      "\n",
      "real:  B03B00104\n",
      "pred:  B03B00402  Score: 0.9674648961197683\n",
      "pred:  B03B00500  Score: 0.9638621406412274\n",
      "pred:  B03B00562  Score: 0.9633048329743776\n",
      "\n",
      "real:  H03F00100\n",
      "pred:  B03B00402  Score: 0.9674648961197683\n",
      "pred:  B03B00500  Score: 0.9638621406412274\n",
      "pred:  B03B00562  Score: 0.9633048329743776\n",
      "\n",
      "real:  H03F00102\n",
      "pred:  B03B00402  Score: 0.9674648961197683\n",
      "pred:  B03B00500  Score: 0.9638621406412274\n",
      "pred:  B03B00562  Score: 0.9633048329743776\n",
      "\n",
      "real:  H03M00514\n",
      "pred:  B03B00402  Score: 0.9674648961197683\n",
      "pred:  B03B00500  Score: 0.9638621406412274\n",
      "pred:  B03B00562  Score: 0.9633048329743776\n",
      "\n",
      "real:  H03M00300\n",
      "pred:  B03B00402  Score: 0.9674648961197683\n",
      "pred:  B03B00500  Score: 0.9638621406412274\n",
      "pred:  B03B00562  Score: 0.9633048329743776\n",
      "\n"
     ]
    }
   ],
   "source": [
    "print(\"Similaridade Cosseno W2V, entre cada doc novo e o conjunto inteiro\")\n",
    "for i,p in enumerate(predicts_w2v):\n",
    "    print(\"real: \",test_classes[i])\n",
    "    for idx,score in sorted(enumerate(predicts_w2v[0]),key = lambda x: x[1],reverse=True)[:3]:\n",
    "        print (\"pred: \", train_classes[idx],\" Score:\",score)\n",
    "    print(\"\")"
   ]
  }
 ],
 "metadata": {
  "kernelspec": {
   "display_name": "Python 3",
   "language": "python",
   "name": "python3"
  },
  "language_info": {
   "codemirror_mode": {
    "name": "ipython",
    "version": 3
   },
   "file_extension": ".py",
   "mimetype": "text/x-python",
   "name": "python",
   "nbconvert_exporter": "python",
   "pygments_lexer": "ipython3",
   "version": "3.6.5"
  }
 },
 "nbformat": 4,
 "nbformat_minor": 2
}
