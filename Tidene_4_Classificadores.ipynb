{
 "cells": [
  {
   "cell_type": "markdown",
   "metadata": {},
   "source": [
    "# Tidene Códigos - Classificadores"
   ]
  },
  {
   "cell_type": "markdown",
   "metadata": {},
   "source": [
    "### Recebe os dados"
   ]
  },
  {
   "cell_type": "code",
   "execution_count": 1,
   "metadata": {},
   "outputs": [],
   "source": [
    "import numpy as np\n",
    "import pandas as pd\n",
    "import nltk\n",
    "import sklearn\n",
    "import gensim\n",
    "import pickle"
   ]
  },
  {
   "cell_type": "code",
   "execution_count": 2,
   "metadata": {},
   "outputs": [],
   "source": [
    "# copiei aqui as classes definidas quando foram criados os vetorizadores... ela poderia ser importada do notebook no qual foi definida\n",
    "from nltk.stem.porter import PorterStemmer\n",
    "from nltk.stem import WordNetLemmatizer\n",
    "from nltk.tokenize import *    #https://www.nltk.org/api/nltk.tokenize.html\n",
    "\n",
    "class LemmaTokenizer(object):\n",
    "    def __init__(self):\n",
    "        self.wnl = WordNetLemmatizer()\n",
    "        self.tokenizer = nltk.tokenize.RegexpTokenizer(\"[a-zA-Z']+\")\n",
    "    def __call__(self, doc):\n",
    "        return [self.wnl.lemmatize(t) for t in self.tokenizer.tokenize(doc) if (len(t)>2)]\n",
    "\n",
    "class StemTokenizer(object):\n",
    "    def __init__(self):\n",
    "        self.stemmer = PorterStemmer()\n",
    "        self.tokenizer = nltk.tokenize.RegexpTokenizer(\"[a-zA-Z']+\")\n",
    "    def __call__(self, doc):\n",
    "        return [self.stemmer.stem(t) for t in self.tokenizer.tokenize(doc) if (len(t)>2)]\n"
   ]
  },
  {
   "cell_type": "code",
   "execution_count": 3,
   "metadata": {},
   "outputs": [
    {
     "data": {
      "text/plain": [
       "(17, 943)"
      ]
     },
     "execution_count": 3,
     "metadata": {},
     "output_type": "execute_result"
    }
   ],
   "source": [
    "# carrega a matriz de features e o vetorizador e a matriz de features \n",
    "tfidf_vectorizer = pickle.load(open(\"tfidf_vectorizer.pickle\", \"rb\"))\n",
    "X_train_tfidf = pickle.load(open(\"X_train_tfidf.pickle\", \"rb\"))\n",
    "\n",
    "X_train_tfidf.shape   # matriz de features"
   ]
  },
  {
   "cell_type": "markdown",
   "metadata": {},
   "source": [
    "#### Lê os textos e as classes de treinamento - e também as classes do arquivo de treinamento"
   ]
  },
  {
   "cell_type": "code",
   "execution_count": 4,
   "metadata": {},
   "outputs": [],
   "source": [
    "# AQUI PODE-SE MUDAR QUAL A CLASSE QUE VAI SER CONSIDERADA\n",
    "train_classes = pd.read_csv('toy.csv',encoding='utf8')['subgroup'].values.tolist()\n",
    "\n",
    "test_docs = pd.read_csv('testtoy.csv',encoding='utf8')['data'].values.tolist()\n",
    "test_classes = pd.read_csv('testtoy.csv',encoding='utf8')['subgroup'].values.tolist()\n",
    "others_test_classes = pd.read_csv('testtoy.csv',encoding='utf8')['othersipcs'].values.tolist()\n",
    "\n",
    "\n",
    "X_test_tfidf = tfidf_vectorizer.transform(test_docs) #representa os documentos com o padrao treinado\n"
   ]
  },
  {
   "cell_type": "code",
   "execution_count": 5,
   "metadata": {},
   "outputs": [
    {
     "data": {
      "text/plain": [
       "(8, 943)"
      ]
     },
     "execution_count": 5,
     "metadata": {},
     "output_type": "execute_result"
    }
   ],
   "source": [
    "X_test_tfidf.shape"
   ]
  },
  {
   "cell_type": "markdown",
   "metadata": {},
   "source": [
    "### Classificador Bayesiano"
   ]
  },
  {
   "cell_type": "code",
   "execution_count": 6,
   "metadata": {},
   "outputs": [],
   "source": [
    "#http://scikit-learn.org/stable/tutorial/text_analytics/working_with_text_data.html\n",
    "from sklearn.naive_bayes import MultinomialNB\n",
    "clf_NB = MultinomialNB().fit(X_train_tfidf, train_classes)"
   ]
  },
  {
   "cell_type": "markdown",
   "metadata": {},
   "source": [
    "##### Predizendo classes para o texto novo"
   ]
  },
  {
   "cell_type": "code",
   "execution_count": 7,
   "metadata": {},
   "outputs": [
    {
     "name": "stdout",
     "output_type": "stream",
     "text": [
      "Acurácia:  0.125\n",
      "classe real => classe predita ===++=== poderiam ser estas tambem \n",
      "B03B00562   => B03B00562      ===++=== D21C00502\n",
      "B03B00510   => B03B00562      ===++=== B03B00524\n",
      "B03B00700   => B03B00562      ===++=== C09K00700\n",
      "B03B00104   => B03B00562      ===++=== B03D00306-C08J00303-C04B03304-C09C00142\n",
      "H03F00100   => B03B00562      ===++===  \n",
      "H03F00102   => B03B00562      ===++=== H03G00320\n",
      "H03M00514   => B03B00562      ===++=== G11B02014\n",
      "H03M00300   => B03B00562      ===++===  \n"
     ]
    }
   ],
   "source": [
    "predicted_NB = clf_NB.predict(X_test_tfidf)\n",
    "print(\"Acurácia: \", np.mean(predicted_NB == test_classes))           \n",
    "\n",
    "print('classe real => classe predita ===++=== poderiam ser estas tambem ')\n",
    "\n",
    "for real, pred, others in zip(test_classes, predicted_NB, others_test_classes):\n",
    "    print('%s   => %s      ===++=== %s' % (real,pred,others))\n"
   ]
  },
  {
   "cell_type": "markdown",
   "metadata": {},
   "source": [
    "#### Avaliação"
   ]
  },
  {
   "cell_type": "code",
   "execution_count": 8,
   "metadata": {},
   "outputs": [
    {
     "name": "stdout",
     "output_type": "stream",
     "text": [
      "             precision    recall  f1-score   support\n",
      "\n",
      "  B03B00104       0.00      0.00      0.00         1\n",
      "  H03M00300       0.00      0.00      0.00         1\n",
      "  H03F00102       0.12      1.00      0.22         1\n",
      "  H03F00100       0.00      0.00      0.00         1\n",
      "  B03B00510       0.00      0.00      0.00         1\n",
      "  B03B00562       0.00      0.00      0.00         1\n",
      "  H03M00514       0.00      0.00      0.00         1\n",
      "  B03B00700       0.00      0.00      0.00         1\n",
      "\n",
      "avg / total       0.02      0.12      0.03         8\n",
      "\n"
     ]
    },
    {
     "name": "stderr",
     "output_type": "stream",
     "text": [
      "/home/andreiabonfante/anaconda3/lib/python3.6/site-packages/sklearn/metrics/classification.py:1135: UndefinedMetricWarning: Precision and F-score are ill-defined and being set to 0.0 in labels with no predicted samples.\n",
      "  'precision', 'predicted', average, warn_for)\n"
     ]
    }
   ],
   "source": [
    "from sklearn import metrics\n",
    "print(metrics.classification_report(test_classes, predicted_NB,target_names=set(test_classes)))\n"
   ]
  },
  {
   "cell_type": "code",
   "execution_count": 9,
   "metadata": {},
   "outputs": [
    {
     "name": "stdout",
     "output_type": "stream",
     "text": [
      "[[0 0 1 0 0 0 0 0]\n",
      " [0 0 1 0 0 0 0 0]\n",
      " [0 0 1 0 0 0 0 0]\n",
      " [0 0 1 0 0 0 0 0]\n",
      " [0 0 1 0 0 0 0 0]\n",
      " [0 0 1 0 0 0 0 0]\n",
      " [0 0 1 0 0 0 0 0]\n",
      " [0 0 1 0 0 0 0 0]]\n"
     ]
    }
   ],
   "source": [
    "# Matriz de Confusao\n",
    "print(metrics.confusion_matrix(test_classes, predicted_NB))"
   ]
  },
  {
   "cell_type": "markdown",
   "metadata": {},
   "source": [
    "### Classificadore SGDC"
   ]
  },
  {
   "cell_type": "code",
   "execution_count": 10,
   "metadata": {},
   "outputs": [
    {
     "name": "stdout",
     "output_type": "stream",
     "text": [
      "Acurácia:  0.125\n",
      "classe real => classe predita ===++=== poderiam ser estas tambem \n",
      "B03B00562   => B03B00512      ===++=== D21C00502\n",
      "B03B00510   => B03B00562      ===++=== B03B00524\n",
      "B03B00700   => H03M00730      ===++=== C09K00700\n",
      "B03B00104   => B03B00562      ===++=== B03D00306-C08J00303-C04B03304-C09C00142\n",
      "H03F00100   => H03F00102      ===++===  \n",
      "H03F00102   => H03F00102      ===++=== H03G00320\n",
      "H03M00514   => H03M00740      ===++=== G11B02014\n",
      "H03M00300   => B03B00562      ===++===  \n"
     ]
    }
   ],
   "source": [
    "#http://scikit-learn.org/stable/tutorial/text_analytics/working_with_text_data.html\n",
    "from sklearn.linear_model import SGDClassifier\n",
    "\n",
    "clf_SGDC = SGDClassifier(loss='hinge', penalty='l2',alpha=1e-3, random_state=42,max_iter=5, tol=None)\n",
    "clf_SGDC.fit(X_train_tfidf, train_classes)\n",
    "predicted_SGDC = clf_SGDC.predict(X_test_tfidf)\n",
    "\n",
    "print(\"Acurácia: \", np.mean(predicted_SGDC == test_classes))           \n",
    "\n",
    "print('classe real => classe predita ===++=== poderiam ser estas tambem ')\n",
    "\n",
    "for real, pred, others in zip(test_classes, predicted_SGDC, others_test_classes):\n",
    "    print('%s   => %s      ===++=== %s' % (real,pred,others))\n"
   ]
  },
  {
   "cell_type": "markdown",
   "metadata": {},
   "source": [
    "#### Métricas de avaliação"
   ]
  },
  {
   "cell_type": "code",
   "execution_count": 11,
   "metadata": {},
   "outputs": [
    {
     "name": "stdout",
     "output_type": "stream",
     "text": [
      "             precision    recall  f1-score   support\n",
      "\n",
      "  B03B00104       0.00      0.00      0.00         1\n",
      "  H03M00300       0.00      0.00      0.00         1\n",
      "  H03F00102       0.00      0.00      0.00         0\n",
      "  H03F00100       0.00      0.00      0.00         1\n",
      "  B03B00510       0.00      0.00      0.00         1\n",
      "  B03B00562       0.00      0.00      0.00         1\n",
      "  H03M00514       0.50      1.00      0.67         1\n",
      "  B03B00700       0.00      0.00      0.00         1\n",
      "\n",
      "avg / total       0.06      0.12      0.08         8\n",
      "\n"
     ]
    },
    {
     "name": "stderr",
     "output_type": "stream",
     "text": [
      "/home/andreiabonfante/anaconda3/lib/python3.6/site-packages/sklearn/metrics/classification.py:1428: UserWarning: labels size, 11, does not match size of target_names, 8\n",
      "  .format(len(labels), len(target_names))\n",
      "/home/andreiabonfante/anaconda3/lib/python3.6/site-packages/sklearn/metrics/classification.py:1135: UndefinedMetricWarning: Precision and F-score are ill-defined and being set to 0.0 in labels with no predicted samples.\n",
      "  'precision', 'predicted', average, warn_for)\n",
      "/home/andreiabonfante/anaconda3/lib/python3.6/site-packages/sklearn/metrics/classification.py:1137: UndefinedMetricWarning: Recall and F-score are ill-defined and being set to 0.0 in labels with no true samples.\n",
      "  'recall', 'true', average, warn_for)\n"
     ]
    }
   ],
   "source": [
    "from sklearn import metrics\n",
    "print(metrics.classification_report(test_classes, predicted_SGDC,target_names=set(test_classes)))\n",
    "      "
   ]
  },
  {
   "cell_type": "code",
   "execution_count": 12,
   "metadata": {},
   "outputs": [
    {
     "name": "stdout",
     "output_type": "stream",
     "text": [
      "Matriz de confusão\n",
      "[[0 0 0 1 0 0 0 0 0 0 0]\n",
      " [0 0 0 1 0 0 0 0 0 0 0]\n",
      " [0 0 0 0 0 0 0 0 0 0 0]\n",
      " [0 0 1 0 0 0 0 0 0 0 0]\n",
      " [0 0 0 0 0 0 0 0 0 1 0]\n",
      " [0 0 0 0 0 0 1 0 0 0 0]\n",
      " [0 0 0 0 0 0 1 0 0 0 0]\n",
      " [0 0 0 1 0 0 0 0 0 0 0]\n",
      " [0 0 0 0 0 0 0 0 0 0 1]\n",
      " [0 0 0 0 0 0 0 0 0 0 0]\n",
      " [0 0 0 0 0 0 0 0 0 0 0]]\n"
     ]
    }
   ],
   "source": [
    "print(\"Matriz de confusão\")\n",
    "print(metrics.confusion_matrix(test_classes, predicted_SGDC))"
   ]
  },
  {
   "cell_type": "markdown",
   "metadata": {},
   "source": [
    "### Classificador SVM"
   ]
  },
  {
   "cell_type": "code",
   "execution_count": 13,
   "metadata": {},
   "outputs": [
    {
     "name": "stdout",
     "output_type": "stream",
     "text": [
      "Acurácia:  0.125\n",
      "classe real => classe predita ===++=== poderiam ser estas tambem \n",
      "B03B00562   => B03B00562      ===++=== D21C00502\n",
      "B03B00510   => B03B00562      ===++=== B03B00524\n",
      "B03B00700   => B03B00562      ===++=== C09K00700\n",
      "B03B00104   => B03B00562      ===++=== B03D00306-C08J00303-C04B03304-C09C00142\n",
      "H03F00100   => H03F00126      ===++===  \n",
      "H03F00102   => H03F00130      ===++=== H03G00320\n",
      "H03M00514   => H03M00740      ===++=== G11B02014\n",
      "H03M00300   => H03M00730      ===++===  \n"
     ]
    }
   ],
   "source": [
    "#http://scikit-learn.org/stable/tutorial/text_analytics/working_with_text_data.html\n",
    "from sklearn.svm import LinearSVC\n",
    "\n",
    "clf_SVC = LinearSVC(random_state=0)\n",
    "clf_SVC.fit(X_train_tfidf, train_classes)\n",
    "predicted_SVC = clf_SVC.predict(X_test_tfidf)\n",
    "\n",
    "print(\"Acurácia: \", np.mean(predicted_SVC == test_classes))           \n",
    "\n",
    "\n",
    "print('classe real => classe predita ===++=== poderiam ser estas tambem ')\n",
    "\n",
    "for real, pred, others in zip(test_classes, predicted_SVC, others_test_classes):\n",
    "    print('%s   => %s      ===++=== %s' % (real,pred,others))\n",
    "\n"
   ]
  },
  {
   "cell_type": "markdown",
   "metadata": {},
   "source": [
    "#### Avaliação"
   ]
  },
  {
   "cell_type": "code",
   "execution_count": 14,
   "metadata": {},
   "outputs": [
    {
     "name": "stdout",
     "output_type": "stream",
     "text": [
      "             precision    recall  f1-score   support\n",
      "\n",
      "  B03B00104       0.00      0.00      0.00         1\n",
      "  H03M00300       0.00      0.00      0.00         1\n",
      "  H03F00102       0.25      1.00      0.40         1\n",
      "  H03F00100       0.00      0.00      0.00         1\n",
      "  B03B00510       0.00      0.00      0.00         1\n",
      "  B03B00562       0.00      0.00      0.00         1\n",
      "  H03M00514       0.00      0.00      0.00         0\n",
      "  B03B00700       0.00      0.00      0.00         0\n",
      "\n",
      "avg / total       0.03      0.12      0.05         8\n",
      "\n"
     ]
    },
    {
     "name": "stderr",
     "output_type": "stream",
     "text": [
      "/home/andreiabonfante/anaconda3/lib/python3.6/site-packages/sklearn/metrics/classification.py:1428: UserWarning: labels size, 12, does not match size of target_names, 8\n",
      "  .format(len(labels), len(target_names))\n",
      "/home/andreiabonfante/anaconda3/lib/python3.6/site-packages/sklearn/metrics/classification.py:1135: UndefinedMetricWarning: Precision and F-score are ill-defined and being set to 0.0 in labels with no predicted samples.\n",
      "  'precision', 'predicted', average, warn_for)\n",
      "/home/andreiabonfante/anaconda3/lib/python3.6/site-packages/sklearn/metrics/classification.py:1137: UndefinedMetricWarning: Recall and F-score are ill-defined and being set to 0.0 in labels with no true samples.\n",
      "  'recall', 'true', average, warn_for)\n"
     ]
    }
   ],
   "source": [
    "from sklearn import metrics\n",
    "print(metrics.classification_report(test_classes, predicted_SVC,target_names=set(test_classes)))"
   ]
  },
  {
   "cell_type": "markdown",
   "metadata": {},
   "source": [
    "#### Matriz de Confusão"
   ]
  },
  {
   "cell_type": "code",
   "execution_count": 15,
   "metadata": {},
   "outputs": [
    {
     "name": "stdout",
     "output_type": "stream",
     "text": [
      "Matriz de confusão\n",
      "[[0 0 1 0 0 0 0 0 0 0 0 0]\n",
      " [0 0 1 0 0 0 0 0 0 0 0 0]\n",
      " [0 0 1 0 0 0 0 0 0 0 0 0]\n",
      " [0 0 1 0 0 0 0 0 0 0 0 0]\n",
      " [0 0 0 0 0 0 1 0 0 0 0 0]\n",
      " [0 0 0 0 0 0 0 1 0 0 0 0]\n",
      " [0 0 0 0 0 0 0 0 0 0 0 0]\n",
      " [0 0 0 0 0 0 0 0 0 0 0 0]\n",
      " [0 0 0 0 0 0 0 0 0 0 1 0]\n",
      " [0 0 0 0 0 0 0 0 0 0 0 1]\n",
      " [0 0 0 0 0 0 0 0 0 0 0 0]\n",
      " [0 0 0 0 0 0 0 0 0 0 0 0]]\n"
     ]
    }
   ],
   "source": [
    "print(\"Matriz de confusão\")\n",
    "print(metrics.confusion_matrix(test_classes, predicted_SVC))"
   ]
  },
  {
   "cell_type": "code",
   "execution_count": null,
   "metadata": {},
   "outputs": [],
   "source": []
  }
 ],
 "metadata": {
  "kernelspec": {
   "display_name": "Python 3",
   "language": "python",
   "name": "python3"
  },
  "language_info": {
   "codemirror_mode": {
    "name": "ipython",
    "version": 3
   },
   "file_extension": ".py",
   "mimetype": "text/x-python",
   "name": "python",
   "nbconvert_exporter": "python",
   "pygments_lexer": "ipython3",
   "version": "3.6.5"
  }
 },
 "nbformat": 4,
 "nbformat_minor": 2
}
